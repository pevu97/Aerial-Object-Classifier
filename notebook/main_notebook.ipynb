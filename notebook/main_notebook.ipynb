{
  "nbformat": 4,
  "nbformat_minor": 0,
  "metadata": {
    "colab": {
      "provenance": [],
      "authorship_tag": "ABX9TyP7ZI1pY93Qa8GwpEboKdj6",
      "include_colab_link": true
    },
    "kernelspec": {
      "name": "python3",
      "display_name": "Python 3"
    },
    "language_info": {
      "name": "python"
    }
  },
  "cells": [
    {
      "cell_type": "markdown",
      "metadata": {
        "id": "view-in-github",
        "colab_type": "text"
      },
      "source": [
        "<a href=\"https://colab.research.google.com/github/pevu97/Galaxy-Image-Classifier/blob/main/notebook/main_notebook.ipynb\" target=\"_parent\"><img src=\"https://colab.research.google.com/assets/colab-badge.svg\" alt=\"Open In Colab\"/></a>"
      ]
    },
    {
      "cell_type": "code",
      "execution_count": 1,
      "metadata": {
        "colab": {
          "base_uri": "https://localhost:8080/"
        },
        "id": "ka8qFXozogDc",
        "outputId": "a3db83c2-973f-4538-d073-85f44b39646b"
      },
      "outputs": [
        {
          "output_type": "stream",
          "name": "stdout",
          "text": [
            "Cloning into 'Galaxy-Image-Classifier'...\n",
            "remote: Enumerating objects: 150, done.\u001b[K\n",
            "remote: Counting objects: 100% (150/150), done.\u001b[K\n",
            "remote: Compressing objects: 100% (143/143), done.\u001b[K\n",
            "remote: Total 150 (delta 43), reused 0 (delta 0), pack-reused 0 (from 0)\u001b[K\n",
            "Receiving objects: 100% (150/150), 18.88 MiB | 12.92 MiB/s, done.\n",
            "Resolving deltas: 100% (43/43), done.\n"
          ]
        }
      ],
      "source": [
        "!git clone https://github.com/pevu97/Galaxy-Image-Classifier.git"
      ]
    },
    {
      "cell_type": "code",
      "source": [
        "%cd Galaxy-Image-Classifier"
      ],
      "metadata": {
        "colab": {
          "base_uri": "https://localhost:8080/"
        },
        "id": "6W_aniE7ogqz",
        "outputId": "f2a6349d-d7a2-4d42-b89a-8a336fae025c"
      },
      "execution_count": 2,
      "outputs": [
        {
          "output_type": "stream",
          "name": "stdout",
          "text": [
            "/content/Galaxy-Image-Classifier\n"
          ]
        }
      ]
    },
    {
      "cell_type": "code",
      "source": [
        "from src.data_prep import imports"
      ],
      "metadata": {
        "id": "gMcANgNGomHI"
      },
      "execution_count": 5,
      "outputs": []
    },
    {
      "cell_type": "code",
      "source": [
        "imports()"
      ],
      "metadata": {
        "id": "i8kR5eNCooHA"
      },
      "execution_count": 6,
      "outputs": []
    },
    {
      "cell_type": "code",
      "source": [
        "!wget https://zenodo.org/records/10845026/files/Galaxy10_DECals.h5"
      ],
      "metadata": {
        "colab": {
          "base_uri": "https://localhost:8080/"
        },
        "id": "edWXIdelotIh",
        "outputId": "c43db44b-262e-440f-d10a-4b87271ccf7d"
      },
      "execution_count": null,
      "outputs": [
        {
          "output_type": "stream",
          "name": "stdout",
          "text": [
            "--2025-07-17 13:47:14--  https://zenodo.org/records/10845026/files/Galaxy10_DECals.h5\n",
            "Resolving zenodo.org (zenodo.org)... 188.185.43.25, 188.185.48.194, 2001:1458:d00:61::100:2f3, ...\n",
            "Connecting to zenodo.org (zenodo.org)|188.185.43.25|:443... connected.\n",
            "HTTP request sent, awaiting response... 200 OK\n",
            "Length: 2735267419 (2.5G) [application/octet-stream]\n",
            "Saving to: ‘Galaxy10_DECals.h5’\n",
            "\n",
            "Galaxy10_DECals.h5   25%[====>               ] 653.29M  5.89MB/s    eta 8m 48s "
          ]
        }
      ]
    },
    {
      "cell_type": "code",
      "source": [],
      "metadata": {
        "id": "uwnhtM3Ho6WQ"
      },
      "execution_count": null,
      "outputs": []
    }
  ]
}