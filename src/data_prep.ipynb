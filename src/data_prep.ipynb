{
  "nbformat": 4,
  "nbformat_minor": 0,
  "metadata": {
    "colab": {
      "provenance": [],
      "authorship_tag": "ABX9TyOdJ4yH6R+Oh12penS364Nt",
      "include_colab_link": true
    },
    "kernelspec": {
      "name": "python3",
      "display_name": "Python 3"
    },
    "language_info": {
      "name": "python"
    }
  },
  "cells": [
    {
      "cell_type": "markdown",
      "metadata": {
        "id": "view-in-github",
        "colab_type": "text"
      },
      "source": [
        "<a href=\"https://colab.research.google.com/github/pevu97/Galaxy-Image-Classifier/blob/main/src/data_prep.ipynb\" target=\"_parent\"><img src=\"https://colab.research.google.com/assets/colab-badge.svg\" alt=\"Open In Colab\"/></a>"
      ]
    },
    {
      "cell_type": "code",
      "execution_count": 6,
      "metadata": {
        "id": "_DpI9jnMasHg"
      },
      "outputs": [],
      "source": [
        "def imports():\n",
        "  import os\n",
        "  import numpy as np\n",
        "  import pandas as pd\n",
        "  import matplotlib.pyplot as plt\n",
        "  import seaborn as sns\n",
        "  from sklearn.metrics import confusion_matrix, classification_report\n",
        "  from PIL import Image\n",
        "  import shutil\n",
        "  import random\n",
        "  import plotly.graph_objects as go\n",
        "  import requests\n",
        "  from io import BytesIO\n",
        "  from IPython.display import display\n",
        "\n",
        "  from tensorflow.keras.preprocessing import image\n",
        "  from tensorflow.keras.preprocessing.image import ImageDataGenerator\n",
        "  from tensorflow.keras.models import Sequential\n",
        "  from tensorflow.keras import layers\n",
        "  from tensorflow.keras import optimizers\n",
        "  from tensorflow.keras.optimizers import Adam\n",
        "  from tensorflow.keras.callbacks import TensorBoard\n",
        "  from tensorflow.keras.applications import VGG19\n",
        "  from tensorflow.keras.preprocessing import image_dataset_from_directory\n",
        "  from tensorflow.keras.callbacks import EarlyStopping\n",
        "  import h5py\n",
        "  import numpy as np\n",
        "  from tensorflow.keras.utils import to_categorical\n",
        "\n",
        "  np.set_printoptions(precision=6, suppress=True)\n"
      ]
    },
    {
      "cell_type": "code",
      "source": [
        "imports()"
      ],
      "metadata": {
        "id": "O3cFH9h3iVVz"
      },
      "execution_count": 7,
      "outputs": []
    },
    {
      "cell_type": "code",
      "source": [
        "def download_data():\n",
        "  !wget https://zenodo.org/records/10845026/files/Galaxy10_DECals.h5\n",
        "\n",
        "def data_organization():\n",
        "  with h5py.File('Galaxy10_DECals.h5', 'r') as f:\n",
        "    images = f['images'][:10500]     # tylko 10500 obrazów\n",
        "    labels = f['ans'][:10500]        # tylko 10500 etykiet\n",
        "\n",
        "\n",
        "\n",
        "  images = images.astype('float32')\n",
        "\n",
        "  labels = labels.astype(int)\n",
        "\n",
        "  # oryginalne unikalne klasy:\n",
        "  unique_classes = np.unique(labels)\n",
        "\n",
        "\n",
        "  # stworzenie mapowania np. {0: 0, 1: 1, 2: 2, 3: 3}\n",
        "  class_map = {old: new for new, old in enumerate(unique_classes)}\n",
        "\n",
        "\n",
        "  # zastosowanie mapowania\n",
        "  labels_mapped = np.array([class_map[label] for label in labels])\n",
        "\n",
        "  # folder docelowy\n",
        "  output_dir = 'sorted_images'\n",
        "  os.makedirs(output_dir, exist_ok=True)\n",
        "\n",
        "  for i, (img, label) in enumerate(zip(images, labels_mapped)):\n",
        "      label_dir = os.path.join(output_dir, str(label))\n",
        "      os.makedirs(label_dir, exist_ok=True)\n",
        "\n",
        "      # zapisz obraz jako JPEG\n",
        "      img_path = os.path.join(label_dir, f'image_{i:05d}.jpg')\n",
        "      img_uint8 = img.astype(np.uint8)  # jeśli potrzebne\n",
        "      Image.fromarray(img_uint8).save(img_path)\n",
        "\n",
        "\n",
        "def split_dataset(source_dir, output_dir, split=(0.7, 0.2, 0.1), seed=42):\n",
        "  random.seed(seed)\n",
        "  class_names = os.listdir(source_dir)\n",
        "\n",
        "  for class_name in class_names:\n",
        "    src_class_dir = os.path.join(source_dir, class_name)\n",
        "    images = os.listdir(src_class_dir)\n",
        "    random.shuffle(images)\n",
        "\n",
        "    n_total = len(images)\n",
        "    n_train = int(split[0] * n_total)\n",
        "    n_val   = int(split[1] * n_total)\n",
        "\n",
        "    split_points = {\n",
        "    'train': images[:n_train],\n",
        "    'val': images[n_train:n_train + n_val],\n",
        "    'test': images[n_train + n_val:]\n",
        "     }\n",
        "\n",
        "    for split_name, file_list in split_points.items():\n",
        "      dest_class_dir = os.path.join(output_dir, split_name, class_name)\n",
        "      os.makedirs(dest_class_dir, exist_ok=True)\n",
        "\n",
        "    for fname in file_list:\n",
        "      shutil.copy2(os.path.join(src_class_dir, fname), os.path.join(dest_class_dir, fname))\n",
        "\n",
        "\n",
        "\n",
        "if __name__ == \"__main__\":\n",
        "    split_dataset(\"sorted_images\", \"dataset\", split=(0.7, 0.2, 0.1))"
      ],
      "metadata": {
        "id": "iEs_13hwcPdG"
      },
      "execution_count": null,
      "outputs": []
    },
    {
      "cell_type": "code",
      "source": [
        "def show_sample_images_per_class():\n",
        "\n",
        "  base_dir = \"/content/sorted_images\"\n",
        "  class_names = sorted(os.listdir(base_dir))[:6]  # wybierz 4 klasy\n",
        "\n",
        "  plt.figure(figsize=(10, 10))\n",
        "\n",
        "  for i, class_name in enumerate(class_names):\n",
        "      class_dir = os.path.join(base_dir, class_name)\n",
        "      image_name = random.choice(os.listdir(class_dir))  # losowe zdjęcie\n",
        "      image_path = os.path.join(class_dir, image_name)\n",
        "\n",
        "      img = Image.open(image_path)\n",
        "\n",
        "      class_labels = {\n",
        "      '0': 'Disturbed',\n",
        "      '1': 'Merger',\n",
        "      '2': 'Round Smooth',\n",
        "      '3': 'In-between Smooth',\n",
        "      '4': 'Cigar Shaped Smooth',\n",
        "      '5': 'Barred Spiral Galaxy',\n",
        "      '6': 'Unbarred Spiral Galaxy'\n",
        "      }\n",
        "\n",
        "      name_tag = class_labels.get(class_name, 'Inna klasa')\n",
        "\n",
        "\n",
        "      plt.subplot(3, 3,i + 1)\n",
        "      plt.imshow(img)\n",
        "      plt.title(f\"Klasa: {name_tag}\")\n",
        "      plt.axis(\"off\")\n",
        "\n",
        "  plt.tight_layout()\n",
        "  plt.show()\n",
        "\n",
        "  print(img.size)"
      ],
      "metadata": {
        "id": "phgkGUU_ehDh"
      },
      "execution_count": 10,
      "outputs": []
    },
    {
      "cell_type": "code",
      "source": [],
      "metadata": {
        "id": "IOH-aXmijsYu"
      },
      "execution_count": null,
      "outputs": []
    }
  ]
}